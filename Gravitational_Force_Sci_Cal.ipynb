{
  "nbformat": 4,
  "nbformat_minor": 0,
  "metadata": {
    "colab": {
      "provenance": [],
      "authorship_tag": "ABX9TyPfPyEwVhWn6T7zKx6AXay6",
      "include_colab_link": true
    },
    "kernelspec": {
      "name": "python3",
      "display_name": "Python 3"
    },
    "language_info": {
      "name": "python"
    }
  },
  "cells": [
    {
      "cell_type": "markdown",
      "metadata": {
        "id": "view-in-github",
        "colab_type": "text"
      },
      "source": [
        "<a href=\"https://colab.research.google.com/github/vatsal2641/Lunar-Space---Vatsal/blob/main/Gravitational_Force_Sci_Cal.ipynb\" target=\"_parent\"><img src=\"https://colab.research.google.com/assets/colab-badge.svg\" alt=\"Open In Colab\"/></a>"
      ]
    },
    {
      "cell_type": "code",
      "execution_count": 2,
      "metadata": {
        "colab": {
          "base_uri": "https://localhost:8080/"
        },
        "id": "mQnbW_WZsyXG",
        "outputId": "73fb26ef-9f7a-4ffa-b15e-38a7421c63c0"
      },
      "outputs": [
        {
          "output_type": "stream",
          "name": "stdout",
          "text": [
            "Enter the mass of the body 1 (in kg):- 67\n",
            "Enter the mass of the body 2 (in kg):- 95\n",
            "Enter the x coordinate of the first body:- 5\n",
            "Enter the y coordinate of the first body:- 9\n",
            "Enter the x coordinate of the second body:- 6\n",
            "Enter the y coordinate of the second body:- 10\n",
            "\n",
            " the gravitational force = 6.637799921875e-09 N\n"
          ]
        }
      ],
      "source": [
        "#Gravitational Constant\n",
        "\n",
        "G=6.6743e-11\n",
        "\n",
        "#User Inputs\n",
        "\n",
        "M1= float(input('Enter the mass of the body 1 (in kg):- '))\n",
        "M2= float(input('Enter the mass of the body 2 (in kg):- '))\n",
        "# The below coordinates can take any unit of distance.\n",
        "x1= float(input('Enter the x coordinate of the first body:- '))\n",
        "y1= float(input('Enter the y coordinate of the first body:- '))\n",
        "x2= float(input('Enter the x coordinate of the second body:- '))\n",
        "y2 =float(input('Enter the y coordinate of the second body:- '))\n",
        "\n",
        "# Distance between the two bodies\n",
        "r = ((x2 - x1)**2 + (y2-y1)**2)**1/2\n",
        "\n",
        "#formula\n",
        "F_g = G * M1 * M2  / r **2\n",
        "\n",
        "#final output\n",
        "\n",
        "print(f'\\n the gravitational force = {F_g} N')\n"
      ]
    },
    {
      "cell_type": "code",
      "source": [],
      "metadata": {
        "id": "8X6eaxzJs7Rz"
      },
      "execution_count": null,
      "outputs": []
    }
  ]
}