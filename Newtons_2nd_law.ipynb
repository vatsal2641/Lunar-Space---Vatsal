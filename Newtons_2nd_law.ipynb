{
  "nbformat": 4,
  "nbformat_minor": 0,
  "metadata": {
    "colab": {
      "provenance": [],
      "authorship_tag": "ABX9TyNY81qU1w2dZ5Q5vF9tXt/8",
      "include_colab_link": true
    },
    "kernelspec": {
      "name": "python3",
      "display_name": "Python 3"
    },
    "language_info": {
      "name": "python"
    }
  },
  "cells": [
    {
      "cell_type": "markdown",
      "metadata": {
        "id": "view-in-github",
        "colab_type": "text"
      },
      "source": [
        "<a href=\"https://colab.research.google.com/github/vatsal2641/Lunar-Space---Vatsal/blob/main/Newtons_2nd_law.ipynb\" target=\"_parent\"><img src=\"https://colab.research.google.com/assets/colab-badge.svg\" alt=\"Open In Colab\"/></a>"
      ]
    },
    {
      "cell_type": "code",
      "execution_count": 2,
      "metadata": {
        "colab": {
          "base_uri": "https://localhost:8080/"
        },
        "id": "W04NxyHByBkC",
        "outputId": "df8f77a6-f3dd-437e-a3f7-f8480f69d688"
      },
      "outputs": [
        {
          "output_type": "stream",
          "name": "stdout",
          "text": [
            "Enter the mass of the body - 78\n",
            "Enter the acceleration in which the body is moving - 4\n",
            "The force exerted by the body is 312.0\n"
          ]
        }
      ],
      "source": [
        "m = float(input(\"Enter the mass of the body - \"))\n",
        "a = float(input(\"Enter the acceleration in which the body is moving - \"))\n",
        "F = m*a\n",
        "print(f\"The force exerted by the body is {F}N\")"
      ]
    },
    {
      "cell_type": "code",
      "source": [],
      "metadata": {
        "id": "ZDwV8crWyyLy"
      },
      "execution_count": null,
      "outputs": []
    }
  ]
}