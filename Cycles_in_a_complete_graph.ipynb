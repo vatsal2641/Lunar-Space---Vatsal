{
  "nbformat": 4,
  "nbformat_minor": 0,
  "metadata": {
    "colab": {
      "provenance": [],
      "authorship_tag": "ABX9TyMxySzRovFYOavdeVU9vvJk",
      "include_colab_link": true
    },
    "kernelspec": {
      "name": "python3",
      "display_name": "Python 3"
    },
    "language_info": {
      "name": "python"
    }
  },
  "cells": [
    {
      "cell_type": "markdown",
      "metadata": {
        "id": "view-in-github",
        "colab_type": "text"
      },
      "source": [
        "<a href=\"https://colab.research.google.com/github/vatsal2641/Lunar-Space---Vatsal/blob/main/Cycles_in_a_complete_graph.ipynb\" target=\"_parent\"><img src=\"https://colab.research.google.com/assets/colab-badge.svg\" alt=\"Open In Colab\"/></a>"
      ]
    },
    {
      "cell_type": "code",
      "source": [
        "import math"
      ],
      "metadata": {
        "id": "_wqGMVeF12GF"
      },
      "execution_count": 9,
      "outputs": []
    },
    {
      "cell_type": "code",
      "execution_count": 1,
      "metadata": {
        "id": "YL7FBSEkzdqP"
      },
      "outputs": [],
      "source": [
        "# Consider a complete graph"
      ]
    },
    {
      "cell_type": "code",
      "source": [
        "n = float(input(\"Enter the number of nodes in the complete graph - \"))"
      ],
      "metadata": {
        "colab": {
          "base_uri": "https://localhost:8080/"
        },
        "id": "CsjptAgt0NwL",
        "outputId": "c5e75948-4235-469b-94ad-3182d584ff3e"
      },
      "execution_count": 3,
      "outputs": [
        {
          "name": "stdout",
          "output_type": "stream",
          "text": [
            "Enter the number of nodes in the complete graph - 8\n"
          ]
        }
      ]
    },
    {
      "cell_type": "code",
      "source": [
        "def fact(n):\n",
        "  if (n==1):\n",
        "    return 1\n",
        "  else:\n",
        "    return n*fact(n-1)"
      ],
      "metadata": {
        "id": "o8Ka5X120U5Z"
      },
      "execution_count": 5,
      "outputs": []
    },
    {
      "cell_type": "code",
      "source": [
        "# The number of Hamiltonean Cycles\n",
        "h_c = fact(n-1)/2\n",
        "# The number of Euler Cycles\n",
        "e_c = (n-1)/2"
      ],
      "metadata": {
        "id": "CXNk0GHi04JF"
      },
      "execution_count": 6,
      "outputs": []
    },
    {
      "cell_type": "code",
      "source": [
        "print(f\"The number of Hamiltonean Cycles - {math.floor(h_c)} \\n The number of Eulers Cycles - {math.floor(e_c)} \")"
      ],
      "metadata": {
        "colab": {
          "base_uri": "https://localhost:8080/"
        },
        "id": "kniOjy-S1YjI",
        "outputId": "48987724-ecfe-4a10-836c-b67ba2feec6f"
      },
      "execution_count": 11,
      "outputs": [
        {
          "output_type": "stream",
          "name": "stdout",
          "text": [
            "The number of Hamiltonean Cycles - 2520 \n",
            " The number of Eulers Cycles - 3 \n"
          ]
        }
      ]
    },
    {
      "cell_type": "code",
      "source": [],
      "metadata": {
        "id": "_A05baKT1nTc"
      },
      "execution_count": null,
      "outputs": []
    }
  ]
}